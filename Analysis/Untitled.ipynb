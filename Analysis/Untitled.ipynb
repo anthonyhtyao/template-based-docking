{
 "cells": [
  {
   "cell_type": "code",
   "execution_count": 1,
   "metadata": {
    "collapsed": true
   },
   "outputs": [],
   "source": [
    "import os\n",
    "import numpy as np\n",
    "import pandas as pd\n",
    "import subprocess\n",
    "import math\n",
    "import matplotlib.pyplot as plt\n",
    "# Change working directory to the root\n",
    "os.chdir('../')\n",
    "PWD = os.getcwd()"
   ]
  },
  {
   "cell_type": "code",
   "execution_count": 5,
   "metadata": {
    "collapsed": true
   },
   "outputs": [],
   "source": [
    "from models.complex import Complex\n",
    "import dockerasmus.pdb as pdb\n",
    "import models.protein\n",
    "from functions import vec_to_dist\n",
    "import runMini as mini"
   ]
  },
  {
   "cell_type": "code",
   "execution_count": 2,
   "metadata": {
    "collapsed": true
   },
   "outputs": [],
   "source": [
    "# load receptor and ligand files\n",
    "CPX = '1AY7'\n",
    "OUT = os.path.join(PWD,'Analysis/Results/Normal_without/')\n",
    "PRO = os.path.join(OUT,'Proteins')\n",
    "lig_path = os.path.join(PRO,'1AY7_l_sep_2za4_AB_aligned.pdb')\n",
    "true_lig_path = os.path.join(PRO,'1AY7_l_true.pdb')\n",
    "rec_path = os.path.join(PRO,'1AY7_r.pdb')"
   ]
  },
  {
   "cell_type": "code",
   "execution_count": 3,
   "metadata": {
    "collapsed": true
   },
   "outputs": [],
   "source": [
    "def rmsd(A,B):\n",
    "    return math.sqrt(np.mean(np.sum((A-B)**2,axis=1)))"
   ]
  },
  {
   "cell_type": "code",
   "execution_count": 6,
   "metadata": {},
   "outputs": [],
   "source": [
    "lig = pdb.Protein.from_pdb_file(lig_path)\n",
    "true_lig = pdb.Protein.from_pdb_file(true_lig_path)\n",
    "rec = pdb.Protein.from_pdb_file(rec_path)\n",
    "cpx = Complex(lig=lig,rec=rec)"
   ]
  },
  {
   "cell_type": "code",
   "execution_count": 7,
   "metadata": {},
   "outputs": [
    {
     "data": {
      "text/plain": [
       "2.6016171957713787"
      ]
     },
     "execution_count": 7,
     "metadata": {},
     "output_type": "execute_result"
    }
   ],
   "source": [
    "rmsd(true_lig.atom_positions(),lig.atom_positions())"
   ]
  }
 ],
 "metadata": {
  "kernelspec": {
   "display_name": "Python 3",
   "language": "python",
   "name": "python3"
  },
  "language_info": {
   "codemirror_mode": {
    "name": "ipython",
    "version": 3
   },
   "file_extension": ".py",
   "mimetype": "text/x-python",
   "name": "python",
   "nbconvert_exporter": "python",
   "pygments_lexer": "ipython3",
   "version": "3.5.2"
  }
 },
 "nbformat": 4,
 "nbformat_minor": 2
}
