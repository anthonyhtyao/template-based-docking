{
 "cells": [
  {
   "cell_type": "code",
   "execution_count": 1,
   "metadata": {
    "collapsed": true
   },
   "outputs": [],
   "source": [
    "import os\n",
    "import numpy as np\n",
    "import pandas as pd\n",
    "import subprocess\n",
    "import math\n",
    "import matplotlib.pyplot as plt\n",
    "# Change working directory to the root\n",
    "os.chdir('../')\n",
    "PWD = os.getcwd()"
   ]
  },
  {
   "cell_type": "code",
   "execution_count": 2,
   "metadata": {
    "collapsed": true
   },
   "outputs": [],
   "source": [
    "from models.complex import Complex\n",
    "import dockerasmus.pdb as pdb\n",
    "import models.protein\n",
    "from functions import vec_to_dist\n",
    "import runMini as mini"
   ]
  },
  {
   "cell_type": "code",
   "execution_count": 3,
   "metadata": {
    "collapsed": true
   },
   "outputs": [],
   "source": [
    "# load receptor and ligand files\n",
    "CPX = '1AY7'\n",
    "OUT = os.path.join(PWD,'Analysis/Results/N_w25_500/')\n",
    "PRO = os.path.join(OUT,'Proteins')\n",
    "lig_path = os.path.join(PRO,'1AY7_l_sep_2za4_AB_aligned.pdb')\n",
    "true_lig_path = os.path.join(PRO,'1AY7_l_true.pdb')\n",
    "rec_path = os.path.join(PRO,'1AY7_r.pdb')\n",
    "n = 500\n",
    "draw_back = True"
   ]
  },
  {
   "cell_type": "code",
   "execution_count": 4,
   "metadata": {
    "collapsed": true
   },
   "outputs": [],
   "source": [
    "def rmsd(A,B):\n",
    "    return math.sqrt(np.mean(np.sum((A-B)**2,axis=1)))"
   ]
  },
  {
   "cell_type": "code",
   "execution_count": 5,
   "metadata": {
    "collapsed": true
   },
   "outputs": [],
   "source": [
    "lig = pdb.Protein.from_pdb_file(lig_path)\n",
    "true_lig = pdb.Protein.from_pdb_file(true_lig_path)\n",
    "rec = pdb.Protein.from_pdb_file(rec_path)\n",
    "cpx = Complex(lig=lig,rec=rec)"
   ]
  },
  {
   "cell_type": "code",
   "execution_count": 6,
   "metadata": {},
   "outputs": [
    {
     "name": "stderr",
     "output_type": "stream",
     "text": [
      "Failed on No. 000005\n",
      "Failed on No. 000011\n"
     ]
    },
    {
     "name": "stdout",
     "output_type": "stream",
     "text": [
      "too far\n"
     ]
    },
    {
     "name": "stderr",
     "output_type": "stream",
     "text": [
      "Failed on No. 000015\n",
      "Failed on No. 000020\n",
      "Failed on No. 000026\n",
      "Failed on No. 000028\n",
      "Failed on No. 000029\n",
      "Failed on No. 000034\n",
      "Failed on No. 000041\n",
      "Failed on No. 000045\n",
      "Failed on No. 000047\n"
     ]
    },
    {
     "name": "stdout",
     "output_type": "stream",
     "text": [
      "too far\n"
     ]
    },
    {
     "name": "stderr",
     "output_type": "stream",
     "text": [
      "Failed on No. 000059\n",
      "Failed on No. 000066\n",
      "Failed on No. 000070\n",
      "Failed on No. 000076\n",
      "Failed on No. 000082\n",
      "Failed on No. 000087\n",
      "Failed on No. 000089\n",
      "Failed on No. 000093\n",
      "Failed on No. 000100\n",
      "Failed on No. 000104\n",
      "Failed on No. 000114\n"
     ]
    },
    {
     "name": "stdout",
     "output_type": "stream",
     "text": [
      "too far\n"
     ]
    },
    {
     "name": "stderr",
     "output_type": "stream",
     "text": [
      "Failed on No. 000115\n",
      "Failed on No. 000124\n",
      "Failed on No. 000129\n"
     ]
    },
    {
     "name": "stdout",
     "output_type": "stream",
     "text": [
      "too far\n"
     ]
    },
    {
     "name": "stderr",
     "output_type": "stream",
     "text": [
      "Failed on No. 000130\n",
      "Failed on No. 000137\n",
      "Failed on No. 000139\n",
      "Failed on No. 000144\n",
      "Failed on No. 000145\n",
      "Failed on No. 000147\n",
      "Failed on No. 000155\n",
      "Failed on No. 000156\n"
     ]
    },
    {
     "name": "stdout",
     "output_type": "stream",
     "text": [
      "too far\n"
     ]
    },
    {
     "name": "stderr",
     "output_type": "stream",
     "text": [
      "Failed on No. 000160\n"
     ]
    },
    {
     "name": "stdout",
     "output_type": "stream",
     "text": [
      "too far\n"
     ]
    },
    {
     "name": "stderr",
     "output_type": "stream",
     "text": [
      "Failed on No. 000162\n",
      "Failed on No. 000163\n",
      "Failed on No. 000168\n",
      "Failed on No. 000172\n",
      "Failed on No. 000195\n",
      "Failed on No. 000198\n"
     ]
    },
    {
     "name": "stdout",
     "output_type": "stream",
     "text": [
      "too far\n"
     ]
    },
    {
     "name": "stderr",
     "output_type": "stream",
     "text": [
      "Failed on No. 000201\n",
      "Failed on No. 000202\n"
     ]
    },
    {
     "name": "stdout",
     "output_type": "stream",
     "text": [
      "too far\n"
     ]
    },
    {
     "name": "stderr",
     "output_type": "stream",
     "text": [
      "Failed on No. 000203\n",
      "Failed on No. 000212\n"
     ]
    },
    {
     "name": "stdout",
     "output_type": "stream",
     "text": [
      "too far\n"
     ]
    },
    {
     "name": "stderr",
     "output_type": "stream",
     "text": [
      "Failed on No. 000218\n",
      "Failed on No. 000221\n",
      "Failed on No. 000223\n",
      "Failed on No. 000229\n"
     ]
    },
    {
     "name": "stdout",
     "output_type": "stream",
     "text": [
      "too far\n"
     ]
    },
    {
     "name": "stderr",
     "output_type": "stream",
     "text": [
      "Failed on No. 000232\n"
     ]
    },
    {
     "name": "stdout",
     "output_type": "stream",
     "text": [
      "too far\n"
     ]
    },
    {
     "name": "stderr",
     "output_type": "stream",
     "text": [
      "Failed on No. 000239\n",
      "Failed on No. 000242\n",
      "Failed on No. 000245\n",
      "Failed on No. 000249\n",
      "Failed on No. 000250\n",
      "Failed on No. 000276\n",
      "Failed on No. 000287\n",
      "Failed on No. 000292\n",
      "Failed on No. 000298\n",
      "Failed on No. 000299\n",
      "Failed on No. 000307\n",
      "Failed on No. 000309\n",
      "Failed on No. 000311\n",
      "Failed on No. 000312\n"
     ]
    },
    {
     "name": "stdout",
     "output_type": "stream",
     "text": [
      "too far\n"
     ]
    },
    {
     "name": "stderr",
     "output_type": "stream",
     "text": [
      "Failed on No. 000315\n",
      "Failed on No. 000318\n",
      "Failed on No. 000322\n",
      "Failed on No. 000323\n",
      "Failed on No. 000324\n"
     ]
    },
    {
     "name": "stdout",
     "output_type": "stream",
     "text": [
      "too far\n"
     ]
    },
    {
     "name": "stderr",
     "output_type": "stream",
     "text": [
      "Failed on No. 000326\n",
      "Failed on No. 000342\n",
      "Failed on No. 000346\n"
     ]
    },
    {
     "name": "stdout",
     "output_type": "stream",
     "text": [
      "too far\n"
     ]
    },
    {
     "name": "stderr",
     "output_type": "stream",
     "text": [
      "Failed on No. 000347\n",
      "Failed on No. 000355\n",
      "Failed on No. 000361\n",
      "Failed on No. 000362\n",
      "Failed on No. 000369\n",
      "Failed on No. 000370\n",
      "Failed on No. 000377\n",
      "Failed on No. 000378\n",
      "Failed on No. 000384\n",
      "Failed on No. 000385\n",
      "Failed on No. 000388\n"
     ]
    },
    {
     "name": "stdout",
     "output_type": "stream",
     "text": [
      "too far\n"
     ]
    },
    {
     "name": "stderr",
     "output_type": "stream",
     "text": [
      "Failed on No. 000389\n",
      "Failed on No. 000390\n",
      "Failed on No. 000404\n",
      "Failed on No. 000406\n"
     ]
    },
    {
     "name": "stdout",
     "output_type": "stream",
     "text": [
      "too far\n"
     ]
    },
    {
     "name": "stderr",
     "output_type": "stream",
     "text": [
      "Failed on No. 000407\n",
      "Failed on No. 000412\n",
      "Failed on No. 000414\n",
      "Failed on No. 000415\n",
      "Failed on No. 000418\n",
      "Failed on No. 000421\n"
     ]
    },
    {
     "name": "stdout",
     "output_type": "stream",
     "text": [
      "too far\n"
     ]
    },
    {
     "name": "stderr",
     "output_type": "stream",
     "text": [
      "Failed on No. 000428\n",
      "Failed on No. 000432\n",
      "Failed on No. 000440\n"
     ]
    },
    {
     "name": "stdout",
     "output_type": "stream",
     "text": [
      "too far\n"
     ]
    },
    {
     "name": "stderr",
     "output_type": "stream",
     "text": [
      "Failed on No. 000448\n",
      "Failed on No. 000457\n",
      "Failed on No. 000458\n",
      "Failed on No. 000460\n",
      "Failed on No. 000461\n",
      "Failed on No. 000462\n",
      "Failed on No. 000470\n",
      "Failed on No. 000485\n",
      "Failed on No. 000486\n"
     ]
    },
    {
     "name": "stdout",
     "output_type": "stream",
     "text": [
      "too far\n"
     ]
    },
    {
     "name": "stderr",
     "output_type": "stream",
     "text": [
      "Failed on No. 000491\n",
      "Failed on No. 000492\n",
      "Failed on No. 000493\n"
     ]
    }
   ],
   "source": [
    "# load rotation angles generated during distribution analysis\n",
    "df = pd.read_csv('Analysis/Results/rotation_analysis_angles.txt',sep='\\t')\n",
    "df_normal = df[(df.Distribution == 'normal') & (df.Test == n)].reset_index()\n",
    "successed_ind = []\n",
    "for idx, row in df_normal.iterrows():\n",
    "    A = cpx.rotations(row.Theta,row.Phi,row.Alpha,row.Beta,row.Gamma)\n",
    "    if draw_back:\n",
    "        # Move ligand if the minimum distance between two carbon alpha is less than 5\n",
    "        D = cpx.ca_dist(A)\n",
    "        i,j = np.unravel_index(D.argmin(), D.shape)\n",
    "        m = D[i,j]\n",
    "        if m <5:\n",
    "            A = A+vec_to_dist(cpx.rec.get_ca()[i],A[cpx.lig.get_ca_ind()][j],25)\n",
    "    # Write rotated ligand file in pdb\n",
    "    cpx.lig.write_atoms(os.path.join(PRO,'{:06d}.pdb'.format(idx)),A)\n",
    "for k in range(n):\n",
    "    # Rename pdbs, conf is ligand name with the interolog associated, lig_pro is for minimizer, li_pro_o is lig_pro name after minimization\n",
    "    conf = \"{}_{:06d}\".format(CPX,k)\n",
    "    lig_pro = os.path.join(PRO,'{:06d}.pdb'.format(k))\n",
    "    lig_pro_o = os.path.join(PRO,'{}.pdb'.format(conf))\n",
    "    successed = mini.run(rec_path,lig_pro,OUT,conf=conf)\n",
    "    # Rename rotated ligand pdb file\n",
    "    subprocess.call([\"mv\",lig_pro,lig_pro_o])\n",
    "    if successed:\n",
    "        successed_ind.append(k)\n",
    "os.chdir(PWD)"
   ]
  },
  {
   "cell_type": "code",
   "execution_count": 7,
   "metadata": {},
   "outputs": [
    {
     "data": {
      "text/plain": [
       "393"
      ]
     },
     "execution_count": 7,
     "metadata": {},
     "output_type": "execute_result"
    }
   ],
   "source": [
    "# Number of succeeded conformations\n",
    "len(successed_ind)"
   ]
  },
  {
   "cell_type": "code",
   "execution_count": 8,
   "metadata": {
    "collapsed": true
   },
   "outputs": [],
   "source": [
    "A = true_lig.atom_positions()\n",
    "files = [os.path.join(OUT,'pdb_mini',f) for f in os.listdir(os.path.join(OUT,'pdb_mini'))]\n",
    "rmsd_lst = [rmsd(A,pdb.protein.Protein.from_pdb_file(f).atom_positions()) for f in files]"
   ]
  },
  {
   "cell_type": "code",
   "execution_count": 9,
   "metadata": {},
   "outputs": [
    {
     "data": {
      "image/png": "[encoded data removed]",
      "text/plain": [
       "<matplotlib.figure.Figure at 0x7f26f5b1aef0>"
      ]
     },
     "metadata": {},
     "output_type": "display_data"
    }
   ],
   "source": [
    "import seaborn as sns\n",
    "sns.distplot(rmsd_lst)\n",
    "plt.savefig(\"Analysis/Results/normal_after_min_{}_without.png\".format(n))\n",
    "plt.show()"
   ]
  },
  {
   "cell_type": "code",
   "execution_count": 10,
   "metadata": {},
   "outputs": [
    {
     "data": {
      "image/png": "[encoded data removed]",
      "text/plain": [
       "<matplotlib.figure.Figure at 0x7f27138aa588>"
      ]
     },
     "metadata": {},
     "output_type": "display_data"
    }
   ],
   "source": [
    "plt.hist(rmsd_lst)\n",
    "plt.savefig(\"Analysis/Results/normal_after_min_{}_without_hist.png\".format(n))\n",
    "plt.show()"
   ]
  },
  {
   "cell_type": "code",
   "execution_count": 11,
   "metadata": {},
   "outputs": [
    {
     "data": {
      "text/plain": [
       "2.1282157459033875"
      ]
     },
     "execution_count": 11,
     "metadata": {},
     "output_type": "execute_result"
    }
   ],
   "source": [
    "min(rmsd_lst)"
   ]
  },
  {
   "cell_type": "code",
   "execution_count": 10,
   "metadata": {},
   "outputs": [
    {
     "data": {
      "text/plain": [
       "390"
      ]
     },
     "execution_count": 10,
     "metadata": {},
     "output_type": "execute_result"
    }
   ],
   "source": [
    "np.argmin(rmsd_lst)"
   ]
  },
  {
   "cell_type": "code",
   "execution_count": 9,
   "metadata": {},
   "outputs": [
    {
     "data": {
      "text/plain": [
       "'/home/htyao/Projets/meet-U/Analysis/Results/Normal_without/pdb_mini/1AY7_002038_min.pdb'"
      ]
     },
     "execution_count": 9,
     "metadata": {},
     "output_type": "execute_result"
    }
   ],
   "source": [
    "files[3441]"
   ]
  }
 ],
 "metadata": {
  "kernelspec": {
   "display_name": "Python 3",
   "language": "python",
   "name": "python3"
  },
  "language_info": {
   "codemirror_mode": {
    "name": "ipython",
    "version": 3
   },
   "file_extension": ".py",
   "mimetype": "text/x-python",
   "name": "python",
   "nbconvert_exporter": "python",
   "pygments_lexer": "ipython3",
   "version": "3.5.2"
  }
 },
 "nbformat": 4,
 "nbformat_minor": 2
}
